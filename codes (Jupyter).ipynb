{
  "nbformat": 4,
  "nbformat_minor": 0,
  "metadata": {
    "colab": {
      "name": "Fingers.ipynb",
      "provenance": [],
      "collapsed_sections": []
    },
    "kernelspec": {
      "name": "python3",
      "display_name": "Python 3"
    },
    "language_info": {
      "name": "python"
    },
    "accelerator": "GPU",
    "widgets": {
      "application/vnd.jupyter.widget-state+json": {
        "23880ccfe02343f49e44319cb02140ed": {
          "model_module": "@jupyter-widgets/controls",
          "model_name": "HBoxModel",
          "model_module_version": "1.5.0",
          "state": {
            "_dom_classes": [],
            "_model_module": "@jupyter-widgets/controls",
            "_model_module_version": "1.5.0",
            "_model_name": "HBoxModel",
            "_view_count": null,
            "_view_module": "@jupyter-widgets/controls",
            "_view_module_version": "1.5.0",
            "_view_name": "HBoxView",
            "box_style": "",
            "children": [
              "IPY_MODEL_352c1b905eca4c7ca3188541381b3d97",
              "IPY_MODEL_b5a6183537e548a0a36ec3a4f9f5401b",
              "IPY_MODEL_e0b82362fcee45c5b649d8b9717f327c"
            ],
            "layout": "IPY_MODEL_011f02b9e5244a3eb36f89ef1ec8281b"
          }
        },
        "352c1b905eca4c7ca3188541381b3d97": {
          "model_module": "@jupyter-widgets/controls",
          "model_name": "HTMLModel",
          "model_module_version": "1.5.0",
          "state": {
            "_dom_classes": [],
            "_model_module": "@jupyter-widgets/controls",
            "_model_module_version": "1.5.0",
            "_model_name": "HTMLModel",
            "_view_count": null,
            "_view_module": "@jupyter-widgets/controls",
            "_view_module_version": "1.5.0",
            "_view_name": "HTMLView",
            "description": "",
            "description_tooltip": null,
            "layout": "IPY_MODEL_e16da31b993a4130a87dbc4ea57705b8",
            "placeholder": "​",
            "style": "IPY_MODEL_f82334ca82de45aaa27a710a241e115c",
            "value": "100%"
          }
        },
        "b5a6183537e548a0a36ec3a4f9f5401b": {
          "model_module": "@jupyter-widgets/controls",
          "model_name": "FloatProgressModel",
          "model_module_version": "1.5.0",
          "state": {
            "_dom_classes": [],
            "_model_module": "@jupyter-widgets/controls",
            "_model_module_version": "1.5.0",
            "_model_name": "FloatProgressModel",
            "_view_count": null,
            "_view_module": "@jupyter-widgets/controls",
            "_view_module_version": "1.5.0",
            "_view_name": "ProgressView",
            "bar_style": "success",
            "description": "",
            "description_tooltip": null,
            "layout": "IPY_MODEL_c5ed7e50390f41fba6bde0fd08674d0d",
            "max": 18000,
            "min": 0,
            "orientation": "horizontal",
            "style": "IPY_MODEL_9bc5f44fee39407897e8fb6007525452",
            "value": 18000
          }
        },
        "e0b82362fcee45c5b649d8b9717f327c": {
          "model_module": "@jupyter-widgets/controls",
          "model_name": "HTMLModel",
          "model_module_version": "1.5.0",
          "state": {
            "_dom_classes": [],
            "_model_module": "@jupyter-widgets/controls",
            "_model_module_version": "1.5.0",
            "_model_name": "HTMLModel",
            "_view_count": null,
            "_view_module": "@jupyter-widgets/controls",
            "_view_module_version": "1.5.0",
            "_view_name": "HTMLView",
            "description": "",
            "description_tooltip": null,
            "layout": "IPY_MODEL_f86e10f2f8494317a495d6cf80aa5d12",
            "placeholder": "​",
            "style": "IPY_MODEL_0148ecb068584ea2a0b6bf852fad4056",
            "value": " 18000/18000 [00:05&lt;00:00, 3283.01it/s]"
          }
        },
        "011f02b9e5244a3eb36f89ef1ec8281b": {
          "model_module": "@jupyter-widgets/base",
          "model_name": "LayoutModel",
          "model_module_version": "1.2.0",
          "state": {
            "_model_module": "@jupyter-widgets/base",
            "_model_module_version": "1.2.0",
            "_model_name": "LayoutModel",
            "_view_count": null,
            "_view_module": "@jupyter-widgets/base",
            "_view_module_version": "1.2.0",
            "_view_name": "LayoutView",
            "align_content": null,
            "align_items": null,
            "align_self": null,
            "border": null,
            "bottom": null,
            "display": null,
            "flex": null,
            "flex_flow": null,
            "grid_area": null,
            "grid_auto_columns": null,
            "grid_auto_flow": null,
            "grid_auto_rows": null,
            "grid_column": null,
            "grid_gap": null,
            "grid_row": null,
            "grid_template_areas": null,
            "grid_template_columns": null,
            "grid_template_rows": null,
            "height": null,
            "justify_content": null,
            "justify_items": null,
            "left": null,
            "margin": null,
            "max_height": null,
            "max_width": null,
            "min_height": null,
            "min_width": null,
            "object_fit": null,
            "object_position": null,
            "order": null,
            "overflow": null,
            "overflow_x": null,
            "overflow_y": null,
            "padding": null,
            "right": null,
            "top": null,
            "visibility": null,
            "width": null
          }
        },
        "e16da31b993a4130a87dbc4ea57705b8": {
          "model_module": "@jupyter-widgets/base",
          "model_name": "LayoutModel",
          "model_module_version": "1.2.0",
          "state": {
            "_model_module": "@jupyter-widgets/base",
            "_model_module_version": "1.2.0",
            "_model_name": "LayoutModel",
            "_view_count": null,
            "_view_module": "@jupyter-widgets/base",
            "_view_module_version": "1.2.0",
            "_view_name": "LayoutView",
            "align_content": null,
            "align_items": null,
            "align_self": null,
            "border": null,
            "bottom": null,
            "display": null,
            "flex": null,
            "flex_flow": null,
            "grid_area": null,
            "grid_auto_columns": null,
            "grid_auto_flow": null,
            "grid_auto_rows": null,
            "grid_column": null,
            "grid_gap": null,
            "grid_row": null,
            "grid_template_areas": null,
            "grid_template_columns": null,
            "grid_template_rows": null,
            "height": null,
            "justify_content": null,
            "justify_items": null,
            "left": null,
            "margin": null,
            "max_height": null,
            "max_width": null,
            "min_height": null,
            "min_width": null,
            "object_fit": null,
            "object_position": null,
            "order": null,
            "overflow": null,
            "overflow_x": null,
            "overflow_y": null,
            "padding": null,
            "right": null,
            "top": null,
            "visibility": null,
            "width": null
          }
        },
        "f82334ca82de45aaa27a710a241e115c": {
          "model_module": "@jupyter-widgets/controls",
          "model_name": "DescriptionStyleModel",
          "model_module_version": "1.5.0",
          "state": {
            "_model_module": "@jupyter-widgets/controls",
            "_model_module_version": "1.5.0",
            "_model_name": "DescriptionStyleModel",
            "_view_count": null,
            "_view_module": "@jupyter-widgets/base",
            "_view_module_version": "1.2.0",
            "_view_name": "StyleView",
            "description_width": ""
          }
        },
        "c5ed7e50390f41fba6bde0fd08674d0d": {
          "model_module": "@jupyter-widgets/base",
          "model_name": "LayoutModel",
          "model_module_version": "1.2.0",
          "state": {
            "_model_module": "@jupyter-widgets/base",
            "_model_module_version": "1.2.0",
            "_model_name": "LayoutModel",
            "_view_count": null,
            "_view_module": "@jupyter-widgets/base",
            "_view_module_version": "1.2.0",
            "_view_name": "LayoutView",
            "align_content": null,
            "align_items": null,
            "align_self": null,
            "border": null,
            "bottom": null,
            "display": null,
            "flex": null,
            "flex_flow": null,
            "grid_area": null,
            "grid_auto_columns": null,
            "grid_auto_flow": null,
            "grid_auto_rows": null,
            "grid_column": null,
            "grid_gap": null,
            "grid_row": null,
            "grid_template_areas": null,
            "grid_template_columns": null,
            "grid_template_rows": null,
            "height": null,
            "justify_content": null,
            "justify_items": null,
            "left": null,
            "margin": null,
            "max_height": null,
            "max_width": null,
            "min_height": null,
            "min_width": null,
            "object_fit": null,
            "object_position": null,
            "order": null,
            "overflow": null,
            "overflow_x": null,
            "overflow_y": null,
            "padding": null,
            "right": null,
            "top": null,
            "visibility": null,
            "width": null
          }
        },
        "9bc5f44fee39407897e8fb6007525452": {
          "model_module": "@jupyter-widgets/controls",
          "model_name": "ProgressStyleModel",
          "model_module_version": "1.5.0",
          "state": {
            "_model_module": "@jupyter-widgets/controls",
            "_model_module_version": "1.5.0",
            "_model_name": "ProgressStyleModel",
            "_view_count": null,
            "_view_module": "@jupyter-widgets/base",
            "_view_module_version": "1.2.0",
            "_view_name": "StyleView",
            "bar_color": null,
            "description_width": ""
          }
        },
        "f86e10f2f8494317a495d6cf80aa5d12": {
          "model_module": "@jupyter-widgets/base",
          "model_name": "LayoutModel",
          "model_module_version": "1.2.0",
          "state": {
            "_model_module": "@jupyter-widgets/base",
            "_model_module_version": "1.2.0",
            "_model_name": "LayoutModel",
            "_view_count": null,
            "_view_module": "@jupyter-widgets/base",
            "_view_module_version": "1.2.0",
            "_view_name": "LayoutView",
            "align_content": null,
            "align_items": null,
            "align_self": null,
            "border": null,
            "bottom": null,
            "display": null,
            "flex": null,
            "flex_flow": null,
            "grid_area": null,
            "grid_auto_columns": null,
            "grid_auto_flow": null,
            "grid_auto_rows": null,
            "grid_column": null,
            "grid_gap": null,
            "grid_row": null,
            "grid_template_areas": null,
            "grid_template_columns": null,
            "grid_template_rows": null,
            "height": null,
            "justify_content": null,
            "justify_items": null,
            "left": null,
            "margin": null,
            "max_height": null,
            "max_width": null,
            "min_height": null,
            "min_width": null,
            "object_fit": null,
            "object_position": null,
            "order": null,
            "overflow": null,
            "overflow_x": null,
            "overflow_y": null,
            "padding": null,
            "right": null,
            "top": null,
            "visibility": null,
            "width": null
          }
        },
        "0148ecb068584ea2a0b6bf852fad4056": {
          "model_module": "@jupyter-widgets/controls",
          "model_name": "DescriptionStyleModel",
          "model_module_version": "1.5.0",
          "state": {
            "_model_module": "@jupyter-widgets/controls",
            "_model_module_version": "1.5.0",
            "_model_name": "DescriptionStyleModel",
            "_view_count": null,
            "_view_module": "@jupyter-widgets/base",
            "_view_module_version": "1.2.0",
            "_view_name": "StyleView",
            "description_width": ""
          }
        },
        "3c793a76d07e4010a73ca696f1dd4f0a": {
          "model_module": "@jupyter-widgets/controls",
          "model_name": "HBoxModel",
          "model_module_version": "1.5.0",
          "state": {
            "_dom_classes": [],
            "_model_module": "@jupyter-widgets/controls",
            "_model_module_version": "1.5.0",
            "_model_name": "HBoxModel",
            "_view_count": null,
            "_view_module": "@jupyter-widgets/controls",
            "_view_module_version": "1.5.0",
            "_view_name": "HBoxView",
            "box_style": "",
            "children": [
              "IPY_MODEL_ce06f7f4e7764154b953af3e2c9618df",
              "IPY_MODEL_a5a8263d6c91452ba4fc84d78a9202eb",
              "IPY_MODEL_a02bac035bc64c8387439d2e6f444e04"
            ],
            "layout": "IPY_MODEL_30c91c568d5d4fee882a3eea26e5e449"
          }
        },
        "ce06f7f4e7764154b953af3e2c9618df": {
          "model_module": "@jupyter-widgets/controls",
          "model_name": "HTMLModel",
          "model_module_version": "1.5.0",
          "state": {
            "_dom_classes": [],
            "_model_module": "@jupyter-widgets/controls",
            "_model_module_version": "1.5.0",
            "_model_name": "HTMLModel",
            "_view_count": null,
            "_view_module": "@jupyter-widgets/controls",
            "_view_module_version": "1.5.0",
            "_view_name": "HTMLView",
            "description": "",
            "description_tooltip": null,
            "layout": "IPY_MODEL_733d45e19e5e4d278e9c61e764f65823",
            "placeholder": "​",
            "style": "IPY_MODEL_38b496a897024b0d8a79d441b12b41d7",
            "value": "100%"
          }
        },
        "a5a8263d6c91452ba4fc84d78a9202eb": {
          "model_module": "@jupyter-widgets/controls",
          "model_name": "FloatProgressModel",
          "model_module_version": "1.5.0",
          "state": {
            "_dom_classes": [],
            "_model_module": "@jupyter-widgets/controls",
            "_model_module_version": "1.5.0",
            "_model_name": "FloatProgressModel",
            "_view_count": null,
            "_view_module": "@jupyter-widgets/controls",
            "_view_module_version": "1.5.0",
            "_view_name": "ProgressView",
            "bar_style": "success",
            "description": "",
            "description_tooltip": null,
            "layout": "IPY_MODEL_c54c9bf1293646219fd939e962bd282d",
            "max": 3600,
            "min": 0,
            "orientation": "horizontal",
            "style": "IPY_MODEL_51f9bfd6e55a454fbb73eb49fe275313",
            "value": 3600
          }
        },
        "a02bac035bc64c8387439d2e6f444e04": {
          "model_module": "@jupyter-widgets/controls",
          "model_name": "HTMLModel",
          "model_module_version": "1.5.0",
          "state": {
            "_dom_classes": [],
            "_model_module": "@jupyter-widgets/controls",
            "_model_module_version": "1.5.0",
            "_model_name": "HTMLModel",
            "_view_count": null,
            "_view_module": "@jupyter-widgets/controls",
            "_view_module_version": "1.5.0",
            "_view_name": "HTMLView",
            "description": "",
            "description_tooltip": null,
            "layout": "IPY_MODEL_a87c2e7dc4134230a3696adf1cc3ce7a",
            "placeholder": "​",
            "style": "IPY_MODEL_758e3ac397dc400582dbc1988515b0f7",
            "value": " 3600/3600 [00:01&lt;00:00, 3242.52it/s]"
          }
        },
        "30c91c568d5d4fee882a3eea26e5e449": {
          "model_module": "@jupyter-widgets/base",
          "model_name": "LayoutModel",
          "model_module_version": "1.2.0",
          "state": {
            "_model_module": "@jupyter-widgets/base",
            "_model_module_version": "1.2.0",
            "_model_name": "LayoutModel",
            "_view_count": null,
            "_view_module": "@jupyter-widgets/base",
            "_view_module_version": "1.2.0",
            "_view_name": "LayoutView",
            "align_content": null,
            "align_items": null,
            "align_self": null,
            "border": null,
            "bottom": null,
            "display": null,
            "flex": null,
            "flex_flow": null,
            "grid_area": null,
            "grid_auto_columns": null,
            "grid_auto_flow": null,
            "grid_auto_rows": null,
            "grid_column": null,
            "grid_gap": null,
            "grid_row": null,
            "grid_template_areas": null,
            "grid_template_columns": null,
            "grid_template_rows": null,
            "height": null,
            "justify_content": null,
            "justify_items": null,
            "left": null,
            "margin": null,
            "max_height": null,
            "max_width": null,
            "min_height": null,
            "min_width": null,
            "object_fit": null,
            "object_position": null,
            "order": null,
            "overflow": null,
            "overflow_x": null,
            "overflow_y": null,
            "padding": null,
            "right": null,
            "top": null,
            "visibility": null,
            "width": null
          }
        },
        "733d45e19e5e4d278e9c61e764f65823": {
          "model_module": "@jupyter-widgets/base",
          "model_name": "LayoutModel",
          "model_module_version": "1.2.0",
          "state": {
            "_model_module": "@jupyter-widgets/base",
            "_model_module_version": "1.2.0",
            "_model_name": "LayoutModel",
            "_view_count": null,
            "_view_module": "@jupyter-widgets/base",
            "_view_module_version": "1.2.0",
            "_view_name": "LayoutView",
            "align_content": null,
            "align_items": null,
            "align_self": null,
            "border": null,
            "bottom": null,
            "display": null,
            "flex": null,
            "flex_flow": null,
            "grid_area": null,
            "grid_auto_columns": null,
            "grid_auto_flow": null,
            "grid_auto_rows": null,
            "grid_column": null,
            "grid_gap": null,
            "grid_row": null,
            "grid_template_areas": null,
            "grid_template_columns": null,
            "grid_template_rows": null,
            "height": null,
            "justify_content": null,
            "justify_items": null,
            "left": null,
            "margin": null,
            "max_height": null,
            "max_width": null,
            "min_height": null,
            "min_width": null,
            "object_fit": null,
            "object_position": null,
            "order": null,
            "overflow": null,
            "overflow_x": null,
            "overflow_y": null,
            "padding": null,
            "right": null,
            "top": null,
            "visibility": null,
            "width": null
          }
        },
        "38b496a897024b0d8a79d441b12b41d7": {
          "model_module": "@jupyter-widgets/controls",
          "model_name": "DescriptionStyleModel",
          "model_module_version": "1.5.0",
          "state": {
            "_model_module": "@jupyter-widgets/controls",
            "_model_module_version": "1.5.0",
            "_model_name": "DescriptionStyleModel",
            "_view_count": null,
            "_view_module": "@jupyter-widgets/base",
            "_view_module_version": "1.2.0",
            "_view_name": "StyleView",
            "description_width": ""
          }
        },
        "c54c9bf1293646219fd939e962bd282d": {
          "model_module": "@jupyter-widgets/base",
          "model_name": "LayoutModel",
          "model_module_version": "1.2.0",
          "state": {
            "_model_module": "@jupyter-widgets/base",
            "_model_module_version": "1.2.0",
            "_model_name": "LayoutModel",
            "_view_count": null,
            "_view_module": "@jupyter-widgets/base",
            "_view_module_version": "1.2.0",
            "_view_name": "LayoutView",
            "align_content": null,
            "align_items": null,
            "align_self": null,
            "border": null,
            "bottom": null,
            "display": null,
            "flex": null,
            "flex_flow": null,
            "grid_area": null,
            "grid_auto_columns": null,
            "grid_auto_flow": null,
            "grid_auto_rows": null,
            "grid_column": null,
            "grid_gap": null,
            "grid_row": null,
            "grid_template_areas": null,
            "grid_template_columns": null,
            "grid_template_rows": null,
            "height": null,
            "justify_content": null,
            "justify_items": null,
            "left": null,
            "margin": null,
            "max_height": null,
            "max_width": null,
            "min_height": null,
            "min_width": null,
            "object_fit": null,
            "object_position": null,
            "order": null,
            "overflow": null,
            "overflow_x": null,
            "overflow_y": null,
            "padding": null,
            "right": null,
            "top": null,
            "visibility": null,
            "width": null
          }
        },
        "51f9bfd6e55a454fbb73eb49fe275313": {
          "model_module": "@jupyter-widgets/controls",
          "model_name": "ProgressStyleModel",
          "model_module_version": "1.5.0",
          "state": {
            "_model_module": "@jupyter-widgets/controls",
            "_model_module_version": "1.5.0",
            "_model_name": "ProgressStyleModel",
            "_view_count": null,
            "_view_module": "@jupyter-widgets/base",
            "_view_module_version": "1.2.0",
            "_view_name": "StyleView",
            "bar_color": null,
            "description_width": ""
          }
        },
        "a87c2e7dc4134230a3696adf1cc3ce7a": {
          "model_module": "@jupyter-widgets/base",
          "model_name": "LayoutModel",
          "model_module_version": "1.2.0",
          "state": {
            "_model_module": "@jupyter-widgets/base",
            "_model_module_version": "1.2.0",
            "_model_name": "LayoutModel",
            "_view_count": null,
            "_view_module": "@jupyter-widgets/base",
            "_view_module_version": "1.2.0",
            "_view_name": "LayoutView",
            "align_content": null,
            "align_items": null,
            "align_self": null,
            "border": null,
            "bottom": null,
            "display": null,
            "flex": null,
            "flex_flow": null,
            "grid_area": null,
            "grid_auto_columns": null,
            "grid_auto_flow": null,
            "grid_auto_rows": null,
            "grid_column": null,
            "grid_gap": null,
            "grid_row": null,
            "grid_template_areas": null,
            "grid_template_columns": null,
            "grid_template_rows": null,
            "height": null,
            "justify_content": null,
            "justify_items": null,
            "left": null,
            "margin": null,
            "max_height": null,
            "max_width": null,
            "min_height": null,
            "min_width": null,
            "object_fit": null,
            "object_position": null,
            "order": null,
            "overflow": null,
            "overflow_x": null,
            "overflow_y": null,
            "padding": null,
            "right": null,
            "top": null,
            "visibility": null,
            "width": null
          }
        },
        "758e3ac397dc400582dbc1988515b0f7": {
          "model_module": "@jupyter-widgets/controls",
          "model_name": "DescriptionStyleModel",
          "model_module_version": "1.5.0",
          "state": {
            "_model_module": "@jupyter-widgets/controls",
            "_model_module_version": "1.5.0",
            "_model_name": "DescriptionStyleModel",
            "_view_count": null,
            "_view_module": "@jupyter-widgets/base",
            "_view_module_version": "1.2.0",
            "_view_name": "StyleView",
            "description_width": ""
          }
        }
      }
    }
  },
  "cells": [
    {
      "cell_type": "markdown",
      "source": [
        "### **FINGERS: Counting Fingers And Distinguishing Between Left And Right**"
      ],
      "metadata": {
        "id": "jv731dS3zXcC"
      }
    },
    {
      "cell_type": "markdown",
      "source": [
        "## 配置环境"
      ],
      "metadata": {
        "id": "NKpu5MWTzwLN"
      }
    },
    {
      "cell_type": "markdown",
      "source": [
        "使用colab( https://colab.research.google.com )，在“代码执行程序中”选择“更改运行时类型”，在“硬件加速器”中选择“GPU”。"
      ],
      "metadata": {
        "id": "5tzuiWs_z5Aj"
      }
    },
    {
      "cell_type": "markdown",
      "source": [
        "我们选择从Kaggle里面下载数据，所以需要安装对应的库。没有本地上传，因为太大了，Google云端硬盘会直接卡死。"
      ],
      "metadata": {
        "id": "TxBluLCZ0lQc"
      }
    },
    {
      "cell_type": "code",
      "execution_count": null,
      "metadata": {
        "id": "Wj8hXLYKCJaD"
      },
      "outputs": [],
      "source": [
        "!pip install Kaggle"
      ]
    },
    {
      "cell_type": "markdown",
      "source": [
        "Import libraries"
      ],
      "metadata": {
        "id": "d7rWNySX1GIg"
      }
    },
    {
      "cell_type": "code",
      "source": [
        "import tensorflow as tf\n",
        "from zipfile import ZipFile\n",
        "import os,glob\n",
        "from skimage.io import imread\n",
        "from skimage.transform import resize \n",
        "import matplotlib.pyplot as plt\n",
        "import random\n",
        "import warnings\n",
        "from scipy import ndarray\n",
        "import skimage as sk\n",
        "from skimage import transform\n",
        "from skimage import util\n",
        "from skimage import io\n",
        "from sklearn import metrics\n",
        "from tqdm.notebook import tqdm_notebook as tqdm\n",
        "import numpy as np\n",
        "from keras.models import Sequential\n",
        "from keras.layers import Convolution2D, Dropout, Dense\n",
        "from keras.layers import BatchNormalization\n",
        "from keras.layers import MaxPooling2D\n",
        "from keras.layers import Flatten\n",
        "from tensorflow.keras.optimizers import Adam\n",
        "from tensorflow.keras.optimizers import SGD\n",
        "from keras.layers import LeakyReLU\n",
        "from numpy import asarray\n",
        "from google.colab import files\n",
        "from zipfile import ZipFile\n",
        "import cv2\n",
        "from sklearn import preprocessing\n",
        "import matplotlib.pyplot as plt\n",
        "from sklearn.model_selection import KFold, cross_val_score\n",
        "from numpy import *"
      ],
      "metadata": {
        "id": "MlOV4q1RCW3D"
      },
      "execution_count": null,
      "outputs": []
    },
    {
      "cell_type": "markdown",
      "source": [
        "下载数据\n"
      ],
      "metadata": {
        "id": "0yfu8GsmAC74"
      }
    },
    {
      "cell_type": "markdown",
      "source": [
        "You need to first add a kaggle.json file which you will get by creating a new API token on Kaggle. Go to my account in Kaggle and scroll down you would see an option for creating a new API. Once you click on that a file ‘kaggle.json’ will be downloaded."
      ],
      "metadata": {
        "id": "JYUEC3Gr1kqV"
      }
    },
    {
      "cell_type": "code",
      "source": [
        "files.upload() # 上传了包含我的kaggle账户信息的json数据\n",
        "\n",
        "!mkdir -p ~/.kaggle\n",
        "!cp kaggle.json ~/.kaggle/\n",
        "\n",
        "!chmod 600 ~/.kaggle/kaggle.json \n",
        "!kaggle datasets download -d koryakinp/fingers"
      ],
      "metadata": {
        "id": "7j02Z9FiC9ff"
      },
      "execution_count": null,
      "outputs": []
    },
    {
      "cell_type": "markdown",
      "source": [
        "解压文件"
      ],
      "metadata": {
        "id": "Q_KmPQBgA6SH"
      }
    },
    {
      "cell_type": "code",
      "source": [
        "file_name = \"fingers.zip\"\n",
        "\n",
        "with ZipFile(file_name,'r') as zip:\n",
        "  zip.extractall()\n",
        "  print('Done')"
      ],
      "metadata": {
        "id": "5Bhi0BxYD5S6"
      },
      "execution_count": null,
      "outputs": []
    },
    {
      "cell_type": "markdown",
      "source": [
        "至此，我们的环境已经配置完成。"
      ],
      "metadata": {
        "id": "VxdRK3io11GR"
      }
    },
    {
      "cell_type": "markdown",
      "source": [
        "## 处理数据集"
      ],
      "metadata": {
        "id": "6CT7RfN4102n"
      }
    },
    {
      "cell_type": "markdown",
      "source": [
        "使用Opencv进行图像处理放入相应的数据集"
      ],
      "metadata": {
        "id": "F0YPYXi4BAzu"
      }
    },
    {
      "cell_type": "code",
      "source": [
        "X_train = [] # 训练图像集\n",
        "Y_train = [] # 训练标签集\n",
        "os.chdir('/content/train')\n",
        "print(\"Train:\")\n",
        "for i in tqdm(os.listdir()): # 一张一张图片处理，显示进度条\n",
        "  img = cv2.imread(i) # 读入图片 \n",
        "  X_train.append(img) # 加入图像训练集\n",
        "  Y_train.append(i[-6:-4]) # 根据文件名提取标签加入标签训练集\n",
        "print(\"Shape of an image in X_train: \", X_train[0].shape) # 输入训练数据维度\n",
        "print(\"Total categories: \", len(np.unique(Y_train))) # 训练集种类数\n",
        "\n",
        "X_test = [] # 测试图像集\n",
        "Y_test = [] # 测试标签集\n",
        "os.chdir('/content/test')\n",
        "print(\"Test:\")\n",
        "for i in tqdm(os.listdir()):\n",
        "  img = cv2.imread(i)   \n",
        "  X_test.append(img)\n",
        "  Y_test.append(i[-6:-4]) \n",
        "print(\"Shape of an image in X_test: \", X_test[0].shape) # 输入测试数据维度\n",
        "print(\"Total categories: \", len(np.unique(Y_test))) # 测试集种类数"
      ],
      "metadata": {
        "colab": {
          "base_uri": "https://localhost:8080/",
          "height": 189,
          "referenced_widgets": [
            "23880ccfe02343f49e44319cb02140ed",
            "352c1b905eca4c7ca3188541381b3d97",
            "b5a6183537e548a0a36ec3a4f9f5401b",
            "e0b82362fcee45c5b649d8b9717f327c",
            "011f02b9e5244a3eb36f89ef1ec8281b",
            "e16da31b993a4130a87dbc4ea57705b8",
            "f82334ca82de45aaa27a710a241e115c",
            "c5ed7e50390f41fba6bde0fd08674d0d",
            "9bc5f44fee39407897e8fb6007525452",
            "f86e10f2f8494317a495d6cf80aa5d12",
            "0148ecb068584ea2a0b6bf852fad4056",
            "3c793a76d07e4010a73ca696f1dd4f0a",
            "ce06f7f4e7764154b953af3e2c9618df",
            "a5a8263d6c91452ba4fc84d78a9202eb",
            "a02bac035bc64c8387439d2e6f444e04",
            "30c91c568d5d4fee882a3eea26e5e449",
            "733d45e19e5e4d278e9c61e764f65823",
            "38b496a897024b0d8a79d441b12b41d7",
            "c54c9bf1293646219fd939e962bd282d",
            "51f9bfd6e55a454fbb73eb49fe275313",
            "a87c2e7dc4134230a3696adf1cc3ce7a",
            "758e3ac397dc400582dbc1988515b0f7"
          ]
        },
        "id": "UTJVCvXoE4co",
        "outputId": "01e08f96-f6f2-463c-b1a5-577dbd71e706"
      },
      "execution_count": null,
      "outputs": [
        {
          "output_type": "stream",
          "name": "stdout",
          "text": [
            "Train:\n"
          ]
        },
        {
          "output_type": "display_data",
          "data": {
            "text/plain": [
              "  0%|          | 0/18000 [00:00<?, ?it/s]"
            ],
            "application/vnd.jupyter.widget-view+json": {
              "version_major": 2,
              "version_minor": 0,
              "model_id": "23880ccfe02343f49e44319cb02140ed"
            }
          },
          "metadata": {}
        },
        {
          "output_type": "stream",
          "name": "stdout",
          "text": [
            "Shape of an image in X_train:  (128, 128, 3)\n",
            "Total categories:  12\n",
            "Test:\n"
          ]
        },
        {
          "output_type": "display_data",
          "data": {
            "text/plain": [
              "  0%|          | 0/3600 [00:00<?, ?it/s]"
            ],
            "application/vnd.jupyter.widget-view+json": {
              "version_major": 2,
              "version_minor": 0,
              "model_id": "3c793a76d07e4010a73ca696f1dd4f0a"
            }
          },
          "metadata": {}
        },
        {
          "output_type": "stream",
          "name": "stdout",
          "text": [
            "Shape of an image in X_test:  (128, 128, 3)\n",
            "Total categories:  12\n"
          ]
        }
      ]
    },
    {
      "cell_type": "markdown",
      "source": [
        "数据集举例"
      ],
      "metadata": {
        "id": "BLItXjJXRR9o"
      }
    },
    {
      "cell_type": "code",
      "source": [
        "%matplotlib inline\n",
        "plt.figure(figsize=(10, 1))\n",
        "for i in range(10):\n",
        "  plt.subplot(1, 10, i+1)\n",
        "  plt.imshow(X_test[i], cmap=\"gray\")\n",
        "  plt.axis('off')\n",
        "plt.show()\n",
        "print('label for each of the above image: %s' % (Y_test[0:10]))"
      ],
      "metadata": {
        "colab": {
          "base_uri": "https://localhost:8080/",
          "height": 96
        },
        "id": "fyHLgMjUFNqA",
        "outputId": "06996e7d-3922-463a-b31c-8aef5f68cfbe"
      },
      "execution_count": null,
      "outputs": [
        {
          "output_type": "display_data",
          "data": {
            "text/plain": [
              "<Figure size 720x72 with 10 Axes>"
            ],
            "image/png": "[encoded data removed]"
          },
          "metadata": {
            "needs_background": "light"
          }
        },
        {
          "output_type": "stream",
          "name": "stdout",
          "text": [
            "label for each of the above image: ['4R', '1L', '0R', '4R', '4R', '1R', '4L', '2L', '3L', '1R']\n"
          ]
        }
      ]
    },
    {
      "cell_type": "markdown",
      "source": [
        "处理数据集"
      ],
      "metadata": {
        "id": "Ksv6fKQ9PDow"
      }
    },
    {
      "cell_type": "code",
      "source": [
        "# 标签序列化，把12个种类用0-11表示\n",
        "le = preprocessing.LabelEncoder()  \n",
        "Y_train = le.fit_transform(Y_train) \n",
        "Y_test = le.fit_transform(Y_test) \n",
        "\n",
        "# 标签集矩阵化：每个标签对应一个12维向量，它是第n类，那么第n维为1，其他维为0\n",
        "Y_train = tf.keras.utils.to_categorical(Y_train, num_classes=12)\n",
        "Y_test = tf.keras.utils.to_categorical(Y_test, num_classes=12)\n",
        "\n",
        "# list->array\n",
        "Y_train = np.array(Y_train)\n",
        "X_train = np.array(X_train)\n",
        "Y_test = np.array(Y_test)\n",
        "X_test = np.array(X_test)"
      ],
      "metadata": {
        "id": "v_MmgXqqFaf8"
      },
      "execution_count": null,
      "outputs": []
    },
    {
      "cell_type": "markdown",
      "source": [
        "## 搭建神经网络"
      ],
      "metadata": {
        "id": "crgVy_sh2mrd"
      }
    },
    {
      "cell_type": "markdown",
      "source": [
        "优化前的神经网络（为了测试结果时，此段可以不用运行）"
      ],
      "metadata": {
        "id": "m910KZPnEtm1"
      }
    },
    {
      "cell_type": "code",
      "source": [
        "def create_original_CNN():\n",
        "  myCNN = Sequential()\n",
        "  myCNN.add(BatchNormalization(input_shape=(128,128,3))) # 数据预处理：标准化\n",
        "  myCNN.add(Convolution2D(filters=32, kernel_size=3, padding='same', activation='relu')) \n",
        "  myCNN.add(MaxPooling2D(pool_size=2))\n",
        "  myCNN.add(Convolution2D(filters=6, kernel_size=4, padding='same', activation='relu'))\n",
        "  myCNN.add(MaxPooling2D(pool_size=2))\n",
        "  myCNN.add(Convolution2D(filters=128, kernel_size=3, padding='same', activation='relu'))\n",
        "  myCNN.add(MaxPooling2D(pool_size=2))\n",
        "  myCNN.add(Convolution2D(filters=128, kernel_size=2, padding='same', activation='relu'))\n",
        "  myCNN.add(MaxPooling2D(pool_size=2))\n",
        "  myCNN.add(Flatten()) \n",
        "  myCNN.add(Dense(units=128, activation='relu'))\n",
        "  myCNN.add(Dense(units=64, activation='relu'))\n",
        "  myCNN.add(Dense(units=32, activation='relu'))\n",
        "  myCNN.add(Dense(units=12, activation='softmax'))\n",
        "  myCNN.compile(optimizer='adam', loss='categorical_crossentropy', metrics=['accuracy'])"
      ],
      "metadata": {
        "id": "tzInNH7_GZVy"
      },
      "execution_count": null,
      "outputs": []
    },
    {
      "cell_type": "markdown",
      "source": [
        "优化后的神经网络"
      ],
      "metadata": {
        "id": "fAsmY7cvNDIp"
      }
    },
    {
      "cell_type": "code",
      "source": [
        "def create_CNN():\n",
        "  # The sequential API allows you to create models layer-by-layer for most problems. \n",
        "  # It is limited in that it does not allow you to create models that share layers or have multiple inputs or outputs.\n",
        "  myCNN = Sequential()\n",
        "  num_filter = 6\n",
        "  myCNN.add(BatchNormalization(input_shape=(128,128,3))) # 数据预处理：标准化\n",
        "  myCNN.add(Convolution2D(filters=num_filter, kernel_size=3, padding='same', activation='leaky_relu')) \n",
        "  myCNN.add(MaxPooling2D(pool_size=2)) \n",
        "  myCNN.add(Convolution2D(filters=num_filter, kernel_size=3, padding='same', activation='leaky_relu')) \n",
        "  myCNN.add(MaxPooling2D(pool_size=2))\n",
        "  myCNN.add(Flatten())\n",
        "  myCNN.add(Dense(units=12, activation='softmax'))\n",
        "  myCNN.compile(optimizer='adam', loss='categorical_crossentropy', metrics=['accuracy'])\n",
        "  return myCNN"
      ],
      "metadata": {
        "id": "4vWZ8GSfGoA3"
      },
      "execution_count": null,
      "outputs": []
    },
    {
      "cell_type": "markdown",
      "source": [
        "参数优化实验代码：cross-validation（为了测试结果时，此段可以不用运行）"
      ],
      "metadata": {
        "id": "97H4nD1EMvET"
      }
    },
    {
      "cell_type": "code",
      "source": [
        "X_folds = np.array_split(X_train, 10)\n",
        "Y_folds = np.array_split(Y_train, 10)\n",
        "scores = list()\n",
        "for k in range(10):\n",
        "    # We use 'list' to copy, in order to 'pop' later on\n",
        "    x_train = list(X_folds)\n",
        "    x_test = x_train.pop(k)\n",
        "    x_train = np.concatenate(x_train)\n",
        "    y_train = list(Y_folds)\n",
        "    y_test = y_train.pop(k)\n",
        "    y_train = np.concatenate(y_train)\n",
        "    myCNN = create_CNN()\n",
        "    model = myCNN.fit(x_train, y_train, epochs=1, verbose=1, initial_epoch=0)\n",
        "    loss_and_metrics = myCNN.evaluate(X_test, Y_test)\n",
        "    scores.append(loss_and_metrics[0])\n",
        "print(\"scores: \", scores)\n",
        "print(\"平均\", mean(scores))"
      ],
      "metadata": {
        "id": "fTsXtFgzMmsv"
      },
      "execution_count": null,
      "outputs": []
    },
    {
      "cell_type": "markdown",
      "source": [
        "训练"
      ],
      "metadata": {
        "id": "71U8YNitS7sl"
      }
    },
    {
      "cell_type": "code",
      "source": [
        "myCNN = create_CNN()\n",
        "model = myCNN.fit(X_train, Y_train, epochs=1, verbose=1, initial_epoch=0)"
      ],
      "metadata": {
        "id": "uEdS_CqhGhNJ"
      },
      "execution_count": null,
      "outputs": []
    },
    {
      "cell_type": "markdown",
      "source": [
        "## 测试结果"
      ],
      "metadata": {
        "id": "PNyMuJNx3Zgy"
      }
    },
    {
      "cell_type": "markdown",
      "source": [
        "测试"
      ],
      "metadata": {
        "id": "trXsTCGKS-fo"
      }
    },
    {
      "cell_type": "code",
      "source": [
        "loss_and_metrics = myCNN.evaluate(X_test, Y_test, batch_size=1)\n",
        "print(loss_and_metrics)"
      ],
      "metadata": {
        "colab": {
          "base_uri": "https://localhost:8080/"
        },
        "id": "sX96izd0Gloa",
        "outputId": "4d484321-4367-49f9-dbdb-6750b549820e"
      },
      "execution_count": null,
      "outputs": [
        {
          "output_type": "stream",
          "name": "stdout",
          "text": [
            "3600/3600 [==============================] - 10s 3ms/step - loss: 0.0025 - accuracy: 0.9997\n",
            "[0.002505379030480981, 0.9997222423553467]\n"
          ]
        }
      ]
    },
    {
      "cell_type": "markdown",
      "source": [
        "从测试集中随机输入图像到模型中，看看输出的分类结果是否真的有这么高"
      ],
      "metadata": {
        "id": "D0UrcaZVwZ-v"
      }
    },
    {
      "cell_type": "code",
      "source": [
        "predicted_classes = myCNN.predict(X_test[:,:,:,:])\n",
        "predicted_classes = np.argmax(np.round(predicted_classes),axis=1)\n",
        "predicted_classes[0]\n",
        "k=X_test.shape[0]\n",
        "r=np.random.randint(k)\n",
        "print(r)\n",
        "print(\"Prediction:\",predicted_classes[r])\n",
        "print(\"\\nActuals:   \",Y_test[r])"
      ],
      "metadata": {
        "colab": {
          "base_uri": "https://localhost:8080/"
        },
        "id": "iSSs4-uS41Gn",
        "outputId": "b27d393e-3a76-4786-8649-94f7f9234c17"
      },
      "execution_count": null,
      "outputs": [
        {
          "output_type": "stream",
          "name": "stdout",
          "text": [
            "746\n",
            "Prediction: 7\n",
            "\n",
            "Actuals:    [0. 0. 0. 0. 0. 0. 0. 1. 0. 0. 0. 0.]\n"
          ]
        }
      ]
    }
  ]
}